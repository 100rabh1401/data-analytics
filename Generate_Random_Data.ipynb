{
 "cells": [
  {
   "cell_type": "code",
   "execution_count": 1,
   "metadata": {
    "collapsed": true
   },
   "outputs": [],
   "source": [
    "# Imports\n",
    "\n",
    "import pandas as pd\n",
    "import numpy as np\n",
    "import names\n",
    "import random\n",
    "import sys\n",
    "import math"
   ]
  },
  {
   "cell_type": "code",
   "execution_count": 2,
   "metadata": {
    "collapsed": true
   },
   "outputs": [],
   "source": [
    "# Creating an empty dataframes with the features\n",
    "\n",
    "def create_df(cols):\n",
    "    '''\n",
    "    cols: list of column names\n",
    "    '''\n",
    "    df = pd.DataFrame(columns=cols)\n",
    "    return df"
   ]
  },
  {
   "cell_type": "code",
   "execution_count": 3,
   "metadata": {
    "collapsed": true
   },
   "outputs": [],
   "source": [
    "# Function that creates random names\n",
    "\n",
    "def random_names(num):\n",
    "    '''\n",
    "    num: the number of names needed\n",
    "    '''\n",
    "    names_list = []\n",
    "    for i in range(num):\n",
    "        names_list.append(names.get_full_name())\n",
    "    return names_list"
   ]
  },
  {
   "cell_type": "code",
   "execution_count": 4,
   "metadata": {
    "collapsed": true
   },
   "outputs": [],
   "source": [
    "# Function that creates random coordinates within a radius given a location\n",
    "\n",
    "def random_coor(num, radius, center):\n",
    "    '''\n",
    "    num: number of coordinates needed\n",
    "    radius: radius of desired area\n",
    "    center: location to start from (center of desired area)\n",
    "    '''\n",
    "    \n",
    "    coor = []         \n",
    "    r = radius/111300\n",
    "    x0, y0 = center \n",
    "    for i in range(num):\n",
    "        u  = float(random.uniform(0.0,1.0))\n",
    "        v = float(random.uniform(0.0,1.0))\n",
    "        \n",
    "        w = r * math.sqrt(u)\n",
    "        t = 2 * math.pi * v\n",
    "        x = w * math.cos(t) \n",
    "        y = w * math.sin(t)\n",
    "        \n",
    "        xLat  = x + x0\n",
    "        yLong = y + y0\n",
    "        coor.append((xLat,yLong))\n",
    "    \n",
    "    return coor"
   ]
  },
  {
   "cell_type": "code",
   "execution_count": 5,
   "metadata": {
    "collapsed": true
   },
   "outputs": [],
   "source": [
    "# Function that returns a list of random times given a start time\n",
    "\n",
    "from random import randrange\n",
    "import datetime \n",
    "\n",
    "def random_date(start,num):\n",
    "    '''\n",
    "    start: start date and time in datetime format\n",
    "    num: number of dates needed\n",
    "    '''\n",
    "    \n",
    "    t = []\n",
    "    current = start\n",
    "    for i in range(num):\n",
    "        curr = current + datetime.timedelta(minutes=randrange(60), seconds=randrange(60))\n",
    "        t.append(curr.strftime(\"%d/%m/%y %H:%M:%S\"))\n",
    "    return t"
   ]
  },
  {
   "cell_type": "code",
   "execution_count": 6,
   "metadata": {
    "collapsed": true
   },
   "outputs": [],
   "source": [
    "# Function that returns a list of random 11-digit numbers\n",
    "\n",
    "from random import randint\n",
    "\n",
    "def random_digits(num, digits=11):\n",
    "    '''\n",
    "    num: number of phone numbers needed\n",
    "    digits: number of digits in each phone number (default is 11)\n",
    "    '''\n",
    "    \n",
    "    phone = []\n",
    "    for i in range(num):\n",
    "        range_start = 10**(digits-1)\n",
    "        range_end = (10**digits)-1\n",
    "        phone.append(randint(range_start, range_end))\n",
    "    \n",
    "    return phone"
   ]
  },
  {
   "cell_type": "code",
   "execution_count": 7,
   "metadata": {
    "collapsed": true
   },
   "outputs": [],
   "source": [
    "# Function that returns a list of random binaries\n",
    "\n",
    "def binary(num):\n",
    "    '''\n",
    "    num: number of entries needed\n",
    "    '''\n",
    "    return np.random.randint(2, size=num)"
   ]
  },
  {
   "cell_type": "code",
   "execution_count": 8,
   "metadata": {
    "collapsed": true
   },
   "outputs": [],
   "source": [
    "# Function that returns a list of random ints from 1 to 20\n",
    "\n",
    "def random_ints(num):\n",
    "    '''\n",
    "    num: number of integers needed\n",
    "    '''\n",
    "    list_int = []\n",
    "    for i in range(num):\n",
    "        list_int.append(random.randint(1,12))\n",
    "    \n",
    "    return list_int"
   ]
  },
  {
   "cell_type": "code",
   "execution_count": 9,
   "metadata": {
    "collapsed": true
   },
   "outputs": [],
   "source": [
    "# Parameters\n",
    "\n",
    "random.seed(0)\n",
    "data_points=2000"
   ]
  },
  {
   "cell_type": "code",
   "execution_count": 10,
   "metadata": {
    "collapsed": true
   },
   "outputs": [],
   "source": [
    "# Creating the dataframe\n",
    "\n",
    "p1_cols = ['time','name', 'street', 'phone', 'occupants', 'dangers', 'vacant', 'first_aid', 'water', 'food', 'message']\n",
    "df = create_df(cols=p1_cols)"
   ]
  },
  {
   "cell_type": "code",
   "execution_count": 12,
   "metadata": {},
   "outputs": [],
   "source": [
    "# Generating the data\n",
    "\n",
    "## Time Data\n",
    "startDate = datetime.datetime(2017, 9, 16,17,00)\n",
    "df['time'] = random_date(start=startDate, num=data_points)\n",
    "\n",
    "## Name data\n",
    "df['name'] = random_names(num=data_points)\n",
    "\n",
    "## Coordinates data\n",
    "pr_coor = (18.238334,-66.530801)\n",
    "pr_radius = 25000\n",
    "df['street'] = random_coor(num=data_points, radius=pr_radius, center=pr_coor)\n",
    "\n",
    "## Phone data\n",
    "df['phone'] = random_digits(num=data_points)\n",
    "\n",
    "## Occupants data\n",
    "df['occupants'] = random_ints(num=data_points)\n",
    "\n",
    "## Dangers, first aid, water, food, vacant data\n",
    "for col in ['dangers', 'vacant', 'first_aid', 'water', 'food']:\n",
    "    df[col] = binary(num=data_points)"
   ]
  },
  {
   "cell_type": "code",
   "execution_count": 13,
   "metadata": {},
   "outputs": [
    {
     "data": {
      "text/html": [
       "<div>\n",
       "<style>\n",
       "    .dataframe thead tr:only-child th {\n",
       "        text-align: right;\n",
       "    }\n",
       "\n",
       "    .dataframe thead th {\n",
       "        text-align: left;\n",
       "    }\n",
       "\n",
       "    .dataframe tbody tr th {\n",
       "        vertical-align: top;\n",
       "    }\n",
       "</style>\n",
       "<table border=\"1\" class=\"dataframe\">\n",
       "  <thead>\n",
       "    <tr style=\"text-align: right;\">\n",
       "      <th></th>\n",
       "      <th>time</th>\n",
       "      <th>name</th>\n",
       "      <th>street</th>\n",
       "      <th>phone</th>\n",
       "      <th>occupants</th>\n",
       "      <th>dangers</th>\n",
       "      <th>vacant</th>\n",
       "      <th>first_aid</th>\n",
       "      <th>water</th>\n",
       "      <th>food</th>\n",
       "      <th>message</th>\n",
       "    </tr>\n",
       "  </thead>\n",
       "  <tbody>\n",
       "    <tr>\n",
       "      <th>0</th>\n",
       "      <td>16/09/17 17:54:24</td>\n",
       "      <td>Clarence Manly</td>\n",
       "      <td>(18.07567005863544, -66.41863020937275)</td>\n",
       "      <td>85194459733</td>\n",
       "      <td>5</td>\n",
       "      <td>1</td>\n",
       "      <td>1</td>\n",
       "      <td>0</td>\n",
       "      <td>1</td>\n",
       "      <td>1</td>\n",
       "      <td>NaN</td>\n",
       "    </tr>\n",
       "    <tr>\n",
       "      <th>1</th>\n",
       "      <td>16/09/17 17:48:56</td>\n",
       "      <td>Betty Jackson</td>\n",
       "      <td>(18.28168669766055, -66.74334024902808)</td>\n",
       "      <td>72172986434</td>\n",
       "      <td>2</td>\n",
       "      <td>1</td>\n",
       "      <td>0</td>\n",
       "      <td>1</td>\n",
       "      <td>1</td>\n",
       "      <td>0</td>\n",
       "      <td>NaN</td>\n",
       "    </tr>\n",
       "    <tr>\n",
       "      <th>2</th>\n",
       "      <td>16/09/17 17:26:02</td>\n",
       "      <td>James Demarco</td>\n",
       "      <td>(18.34793323121734, -66.72193554186062)</td>\n",
       "      <td>38221582206</td>\n",
       "      <td>2</td>\n",
       "      <td>0</td>\n",
       "      <td>0</td>\n",
       "      <td>1</td>\n",
       "      <td>1</td>\n",
       "      <td>0</td>\n",
       "      <td>NaN</td>\n",
       "    </tr>\n",
       "    <tr>\n",
       "      <th>3</th>\n",
       "      <td>16/09/17 17:16:32</td>\n",
       "      <td>Bryan Draper</td>\n",
       "      <td>(18.05087580385643, -66.48562392439639)</td>\n",
       "      <td>95575988362</td>\n",
       "      <td>5</td>\n",
       "      <td>0</td>\n",
       "      <td>0</td>\n",
       "      <td>1</td>\n",
       "      <td>1</td>\n",
       "      <td>0</td>\n",
       "      <td>NaN</td>\n",
       "    </tr>\n",
       "    <tr>\n",
       "      <th>4</th>\n",
       "      <td>16/09/17 17:31:25</td>\n",
       "      <td>Gloria Steffen</td>\n",
       "      <td>(18.08603968646708, -66.36661803786103)</td>\n",
       "      <td>74743985989</td>\n",
       "      <td>10</td>\n",
       "      <td>1</td>\n",
       "      <td>0</td>\n",
       "      <td>1</td>\n",
       "      <td>1</td>\n",
       "      <td>1</td>\n",
       "      <td>NaN</td>\n",
       "    </tr>\n",
       "  </tbody>\n",
       "</table>\n",
       "</div>"
      ],
      "text/plain": [
       "                time            name                                   street  \\\n",
       "0  16/09/17 17:54:24  Clarence Manly  (18.07567005863544, -66.41863020937275)   \n",
       "1  16/09/17 17:48:56   Betty Jackson  (18.28168669766055, -66.74334024902808)   \n",
       "2  16/09/17 17:26:02   James Demarco  (18.34793323121734, -66.72193554186062)   \n",
       "3  16/09/17 17:16:32    Bryan Draper  (18.05087580385643, -66.48562392439639)   \n",
       "4  16/09/17 17:31:25  Gloria Steffen  (18.08603968646708, -66.36661803786103)   \n",
       "\n",
       "         phone  occupants  dangers  vacant  first_aid  water  food message  \n",
       "0  85194459733          5        1       1          0      1     1     NaN  \n",
       "1  72172986434          2        1       0          1      1     0     NaN  \n",
       "2  38221582206          2        0       0          1      1     0     NaN  \n",
       "3  95575988362          5        0       0          1      1     0     NaN  \n",
       "4  74743985989         10        1       0          1      1     1     NaN  "
      ]
     },
     "execution_count": 13,
     "metadata": {},
     "output_type": "execute_result"
    }
   ],
   "source": [
    "# Viewing the dataframe\n",
    "\n",
    "df.head()"
   ]
  },
  {
   "cell_type": "code",
   "execution_count": null,
   "metadata": {
    "collapsed": true
   },
   "outputs": [],
   "source": []
  }
 ],
 "metadata": {
  "kernelspec": {
   "display_name": "Python 3",
   "language": "python",
   "name": "python3"
  },
  "language_info": {
   "codemirror_mode": {
    "name": "ipython",
    "version": 3
   },
   "file_extension": ".py",
   "mimetype": "text/x-python",
   "name": "python",
   "nbconvert_exporter": "python",
   "pygments_lexer": "ipython3",
   "version": "3.6.5"
  }
 },
 "nbformat": 4,
 "nbformat_minor": 2
}
