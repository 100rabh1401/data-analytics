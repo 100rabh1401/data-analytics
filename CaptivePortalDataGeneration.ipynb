{
 "cells": [
  {
   "cell_type": "code",
   "execution_count": 1,
   "metadata": {
    "collapsed": true
   },
   "outputs": [],
   "source": [
    "import random\n",
    "import datetime\n",
    "from generate_random_data import Generate_Random_Data as grd"
   ]
  },
  {
   "cell_type": "markdown",
   "metadata": {},
   "source": [
    "# Captive Portal Data Generation"
   ]
  },
  {
   "cell_type": "code",
   "execution_count": 2,
   "metadata": {
    "collapsed": true
   },
   "outputs": [],
   "source": [
    "# Setting the seed to zero\n",
    "random.seed(0)"
   ]
  },
  {
   "cell_type": "code",
   "execution_count": 3,
   "metadata": {
    "collapsed": true
   },
   "outputs": [],
   "source": [
    "# Creating only 2000 data points\n",
    "data_points=2000"
   ]
  },
  {
   "cell_type": "code",
   "execution_count": 4,
   "metadata": {
    "collapsed": true
   },
   "outputs": [],
   "source": [
    "# Creating the dataframe\n",
    "p1_cols = ['time','name', 'street', 'phone', 'wya', 'medical', 'fire_explosion', 'flood', 'violence', \n",
    "           'landslide', 'building_collapse', 'trapped', 'death', 'other_emergency', 'first_aid', 'shelter',\n",
    "           'food', 'financial_aid', 'water', 'evacuation', 'clothing', 'hygiene', 'other_details', \n",
    "           'electrical', 'road_blocked', 'fallen_trees','chemical','smoke_fire','animals','swiftwater',\n",
    "           'explosives', 'other_hazards', 'num_people', 'num_pets', 'immobile', 'public_name', 'change_status', \n",
    "           'message']\n",
    "captive_portal_data = grd.create_df(cols=p1_cols)"
   ]
  },
  {
   "cell_type": "code",
   "execution_count": 5,
   "metadata": {},
   "outputs": [
    {
     "ename": "NameError",
     "evalue": "name 'random_ints' is not defined",
     "output_type": "error",
     "traceback": [
      "\u001b[0;31m---------------------------------------------------------------------------\u001b[0m",
      "\u001b[0;31mNameError\u001b[0m                                 Traceback (most recent call last)",
      "\u001b[0;32m<ipython-input-5-8862b3c8f216>\u001b[0m in \u001b[0;36m<module>\u001b[0;34m()\u001b[0m\n\u001b[1;32m     17\u001b[0m \u001b[0;34m\u001b[0m\u001b[0m\n\u001b[1;32m     18\u001b[0m \u001b[0;31m## Occupants data\u001b[0m\u001b[0;34m\u001b[0m\u001b[0;34m\u001b[0m\u001b[0m\n\u001b[0;32m---> 19\u001b[0;31m \u001b[0mcaptive_portal_data\u001b[0m\u001b[0;34m[\u001b[0m\u001b[0;34m'num_people'\u001b[0m\u001b[0;34m]\u001b[0m \u001b[0;34m=\u001b[0m \u001b[0mrandom_ints\u001b[0m\u001b[0;34m(\u001b[0m\u001b[0mnum\u001b[0m\u001b[0;34m=\u001b[0m\u001b[0mdata_points\u001b[0m\u001b[0;34m)\u001b[0m\u001b[0;34m\u001b[0m\u001b[0m\n\u001b[0m\u001b[1;32m     20\u001b[0m \u001b[0mcaptive_portal_data\u001b[0m\u001b[0;34m[\u001b[0m\u001b[0;34m'num_pets'\u001b[0m\u001b[0;34m]\u001b[0m \u001b[0;34m=\u001b[0m \u001b[0mrandom_ints\u001b[0m\u001b[0;34m(\u001b[0m\u001b[0mnum\u001b[0m\u001b[0;34m=\u001b[0m\u001b[0mdata_points\u001b[0m\u001b[0;34m)\u001b[0m\u001b[0;34m\u001b[0m\u001b[0m\n\u001b[1;32m     21\u001b[0m \u001b[0;34m\u001b[0m\u001b[0m\n",
      "\u001b[0;31mNameError\u001b[0m: name 'random_ints' is not defined"
     ]
    }
   ],
   "source": [
    "# Generating the data\n",
    "\n",
    "## Time Data\n",
    "startDate = datetime.datetime(2017, 9, 16,17,00)\n",
    "captive_portal_data['time'] = grd.random_date(start=startDate, num=data_points)\n",
    "\n",
    "## Name data\n",
    "captive_portal_data['name'] = grd.random_names(num=data_points)\n",
    "\n",
    "## Coordinates data\n",
    "pr_coor = (18.238334,-66.530801)\n",
    "pr_radius = 25000\n",
    "captive_portal_data['street'] = grd.random_coor(num=data_points, radius=pr_radius, center=pr_coor)\n",
    "\n",
    "## Phone data\n",
    "captive_portal_data['phone'] = grd.random_digits(num=data_points)\n",
    "\n",
    "## Occupants data\n",
    "captive_portal_data['num_people'] = random_ints(num=data_points)\n",
    "captive_portal_data['num_pets'] = random_ints(num=data_points)\n",
    "\n",
    "## Dangers, first aid, water, food, vacant data\n",
    "for col in ['medical', 'fire_explosion', 'flood', 'violence', 'landslide', 'building_collapse',\n",
    "            'trapped', 'death','first_aid', 'shelter', 'food', 'financial_aid', 'water', \n",
    "            'evacuation', 'clothing', 'hygiene','electrical', 'road_blocked', 'fallen_trees',\n",
    "            'chemical','smoke_fire','animals','swiftwater', 'explosives','immobile', \n",
    "            'public_name', 'change_status']:\n",
    "    captive_portal_data[col] = grd.binary(num=data_points)\n",
    "\n",
    "## Viewing the dataframe\n",
    "captive_portal_data.head()"
   ]
  }
 ],
 "metadata": {
  "kernelspec": {
   "display_name": "Python 3",
   "language": "python",
   "name": "python3"
  },
  "language_info": {
   "codemirror_mode": {
    "name": "ipython",
    "version": 3
   },
   "file_extension": ".py",
   "mimetype": "text/x-python",
   "name": "python",
   "nbconvert_exporter": "python",
   "pygments_lexer": "ipython3",
   "version": "3.6.6"
  }
 },
 "nbformat": 4,
 "nbformat_minor": 2
}
