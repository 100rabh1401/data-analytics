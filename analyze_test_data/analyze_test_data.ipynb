{
 "cells": [
  {
   "cell_type": "code",
   "execution_count": null,
   "metadata": {
    "collapsed": true
   },
   "outputs": [],
   "source": [
    "import pandas as pd\n",
    "import numpy as np\n",
    "import folium\n",
    "import ast"
   ]
  },
  {
   "cell_type": "markdown",
   "metadata": {},
   "source": [
    "# Data Cleaning Functions"
   ]
  },
  {
   "cell_type": "code",
   "execution_count": null,
   "metadata": {
    "collapsed": true
   },
   "outputs": [],
   "source": [
    "# Removing duplicates from device observations\n",
    "\n",
    "def clean_coordinates_df(df):\n",
    "    return df.drop_duplicates(subset='device_id', keep='last')"
   ]
  },
  {
   "cell_type": "code",
   "execution_count": null,
   "metadata": {
    "collapsed": true
   },
   "outputs": [],
   "source": [
    "# Turning 'payload' from string to dictionary\n",
    "\n",
    "def extract_path(df, col='payload', key='path', convert_string=True):\n",
    "    if convert_string:\n",
    "        df[col] = df[col].apply(lambda x: ast.literal_eval(x))\n",
    "        return df[col].apply(lambda x: x.get(key))\n",
    "    else:\n",
    "        return df[col].apply(lambda x: x.get(key))"
   ]
  },
  {
   "cell_type": "code",
   "execution_count": null,
   "metadata": {
    "collapsed": true
   },
   "outputs": [],
   "source": [
    "# Getting the device path from the 'path'\n",
    "\n",
    "def get_path(x, coordinates_df):\n",
    "    path = []\n",
    "    if x is not None:\n",
    "        for i in x.split(','):\n",
    "            try:\n",
    "                path.append(coordinates_df[coordinates_df['device_id'] == i][['latitude', 'longitude']].values[0])\n",
    "            except:\n",
    "                path.append(coordinates_df[coordinates_df['device_id'] == i][['latitude', 'longitude']].values)\n",
    "        return path\n",
    "    else:\n",
    "        return path"
   ]
  },
  {
   "cell_type": "code",
   "execution_count": null,
   "metadata": {
    "collapsed": true
   },
   "outputs": [],
   "source": [
    "# Getting gps location from android_debugging_messages\n",
    "\n",
    "def android_gps_location(row):\n",
    "    return list(ast.literal_eval(ast.literal_eval(row).get('gpsLocation')))"
   ]
  },
  {
   "cell_type": "markdown",
   "metadata": {},
   "source": [
    "# Mapping Functions"
   ]
  },
  {
   "cell_type": "code",
   "execution_count": null,
   "metadata": {
    "collapsed": true
   },
   "outputs": [],
   "source": [
    "# Generates the map\n",
    "def create_map(coordinates):\n",
    "    return folium.Map(location=coordinates, zoom_start=16, tiles='cartodbpositron')"
   ]
  },
  {
   "cell_type": "code",
   "execution_count": null,
   "metadata": {
    "collapsed": true
   },
   "outputs": [],
   "source": [
    "# Plots the ducks on the map\n",
    "def map_ducks(m, df, papa_id='44E855A4AE30'):    \n",
    "    for i in range(0,len(df)):\n",
    "        if df.iloc[i]['device_id'] == papa_id:\n",
    "            folium.CircleMarker(location=[df.iloc[i]['latitude'], df.iloc[i]['longitude']],\n",
    "                                radius=3,\n",
    "                                color='blue',\n",
    "                                fill=True,\n",
    "                                fill_color='blue',\n",
    "                                popup=\"<br>\".join([str(df.iloc[i]['device_id']), 'PapaDuck'])\n",
    "                               ).add_to(m)\n",
    "        else:\n",
    "            folium.CircleMarker(location=[df.iloc[i]['latitude'], df.iloc[i]['longitude']],\n",
    "                                radius=2,\n",
    "                                color='red',\n",
    "                                popup=\"<br>\".join([str(df.iloc[i]['device_id']), str(df.iloc[i]['device_type'])])\n",
    "                               ).add_to(m)\n",
    "    return m"
   ]
  },
  {
   "cell_type": "code",
   "execution_count": null,
   "metadata": {
    "collapsed": true
   },
   "outputs": [],
   "source": [
    "# Plots the path of the messages and saves it as html\n",
    "def plot_path(gps_location, clusterdata, device_observations, papa_id='44E855A4AE30'):\n",
    "    clusterdata = clusterdata.drop_duplicates(subset='path', keep='last')\n",
    "    for idx,val in enumerate(clusterdata['path_coordinates'][[len(i)>1 for i in clusterdata['path_coordinates']]]):\n",
    "        test = folium.Map(location=gps_location, zoom_start=16, tiles='cartodbpositron')\n",
    "        for i in range(0,len(device_observations)):\n",
    "            if device_observations.iloc[i]['device_id'] == papa_id:\n",
    "                folium.CircleMarker(location=[device_observations.iloc[i]['latitude'], device_observations.iloc[i]['longitude']],\n",
    "                                    radius=4,\n",
    "                                    color='blue',\n",
    "                                    fill_color='blue',\n",
    "                                    popup=\"<br>\".join([str(device_observations.iloc[i]['device_id']), 'PapaDuck'])\n",
    "                                   ).add_to(test)\n",
    "            else:\n",
    "                folium.CircleMarker(location=[device_observations.iloc[i]['latitude'], device_observations.iloc[i]['longitude']],\n",
    "                                    radius=3,\n",
    "                                    color='red',\n",
    "                                    fill_color='red',\n",
    "                                    popup=\"<br>\".join([str(device_observations.iloc[i]['device_id']), str(device_observations.iloc[i]['device_type'])])\n",
    "                                   ).add_to(test)\n",
    "        folium.PolyLine(val, weight=1, color='green').add_to(test)\n",
    "        for j in val:\n",
    "            if len(j)==2:\n",
    "                folium.CircleMarker(location=[j[0], j[1]],\n",
    "                                    radius=1,\n",
    "                                    color='green'\n",
    "                                    ).add_to(test)\n",
    "        test.save(outfile=str(idx)+'test.html')\n",
    "    return print('Complete!')"
   ]
  }
 ],
 "metadata": {
  "kernelspec": {
   "display_name": "Python 3",
   "language": "python",
   "name": "python3"
  },
  "language_info": {
   "codemirror_mode": {
    "name": "ipython",
    "version": 3
   },
   "file_extension": ".py",
   "mimetype": "text/x-python",
   "name": "python",
   "nbconvert_exporter": "python",
   "pygments_lexer": "ipython3",
   "version": "3.6.6"
  }
 },
 "nbformat": 4,
 "nbformat_minor": 2
}
